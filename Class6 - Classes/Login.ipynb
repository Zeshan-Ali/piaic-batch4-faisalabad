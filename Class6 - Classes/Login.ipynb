{
 "cells": [
  {
   "cell_type": "code",
   "execution_count": null,
   "metadata": {},
   "outputs": [],
   "source": [
    "class LoginManager():\n",
    "    def __init__(self, username, password, isVerified):\n",
    "        self.username = username\n",
    "        self.password = password\n",
    "        self.isVerified = isVerified\n",
    "        \n",
    "    def setVerifiedValue(self, data):\n",
    "        if type(data) == bool:\n",
    "            self.isVerified = data\n",
    "    \n",
    "    def checkVerified(self):\n",
    "        if self.isVerified == True:\n",
    "            print(\"User is verified\")\n",
    "            return True\n",
    "        else:\n",
    "            print(\"User is not verified\")\n",
    "            return False\n",
    "        \n",
    "    \n",
    "    def loginUser(this):\n",
    "        if this.username == \"faizan\" and this.password == \"123456\":\n",
    "            if this.checkVerified():\n",
    "                return \"User logged in\"\n",
    "            else:\n",
    "                print(\"Not verified\")\n",
    "        else:\n",
    "            return \"Incorrect details\""
   ]
  }
 ],
 "metadata": {
  "kernelspec": {
   "display_name": "Python 3",
   "language": "python",
   "name": "python3"
  },
  "language_info": {
   "codemirror_mode": {
    "name": "ipython",
    "version": 3
   },
   "file_extension": ".py",
   "mimetype": "text/x-python",
   "name": "python",
   "nbconvert_exporter": "python",
   "pygments_lexer": "ipython3",
   "version": "3.7.3"
  }
 },
 "nbformat": 4,
 "nbformat_minor": 2
}
