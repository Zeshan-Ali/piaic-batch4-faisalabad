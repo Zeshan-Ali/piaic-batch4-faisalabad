{
 "cells": [
  {
   "cell_type": "code",
   "execution_count": 1,
   "metadata": {},
   "outputs": [],
   "source": [
    "employee1 = ['Waqas', 27, 'Male', 350000]\n"
   ]
  },
  {
   "cell_type": "markdown",
   "metadata": {},
   "source": [
    "Dictionary is a key value pair"
   ]
  },
  {
   "cell_type": "code",
   "execution_count": 2,
   "metadata": {},
   "outputs": [],
   "source": [
    "employee = {\"employee_Name\":\"Waqas\",\"age\":27,\"gender\":\"Male\",\n",
    "            \"Salary\":350000}"
   ]
  },
  {
   "cell_type": "code",
   "execution_count": 4,
   "metadata": {},
   "outputs": [
    {
     "name": "stdout",
     "output_type": "stream",
     "text": [
      "<class 'dict'>\n"
     ]
    }
   ],
   "source": [
    "print(type(employee))"
   ]
  },
  {
   "cell_type": "code",
   "execution_count": 5,
   "metadata": {},
   "outputs": [
    {
     "data": {
      "text/plain": [
       "27"
      ]
     },
     "execution_count": 5,
     "metadata": {},
     "output_type": "execute_result"
    }
   ],
   "source": [
    "employee[\"age\"]"
   ]
  },
  {
   "cell_type": "code",
   "execution_count": 8,
   "metadata": {},
   "outputs": [],
   "source": [
    "employee[\"employee_Name\"] = \"Muhammad Waqas\""
   ]
  },
  {
   "cell_type": "code",
   "execution_count": 10,
   "metadata": {},
   "outputs": [
    {
     "data": {
      "text/plain": [
       "{'employee_Name': 'Muhammad Waqas',\n",
       " 'age': 27,\n",
       " 'gender': 'Male',\n",
       " 'Salary': 350000}"
      ]
     },
     "execution_count": 10,
     "metadata": {},
     "output_type": "execute_result"
    }
   ],
   "source": [
    "employee"
   ]
  },
  {
   "cell_type": "code",
   "execution_count": 11,
   "metadata": {},
   "outputs": [],
   "source": [
    "employee[\"position\"] = \"A.I Lead\""
   ]
  },
  {
   "cell_type": "code",
   "execution_count": 12,
   "metadata": {},
   "outputs": [
    {
     "data": {
      "text/plain": [
       "{'employee_Name': 'Muhammad Waqas',\n",
       " 'age': 27,\n",
       " 'gender': 'Male',\n",
       " 'Salary': 350000,\n",
       " 'position': 'A.I Lead'}"
      ]
     },
     "execution_count": 12,
     "metadata": {},
     "output_type": "execute_result"
    }
   ],
   "source": [
    "employee"
   ]
  },
  {
   "cell_type": "code",
   "execution_count": 13,
   "metadata": {},
   "outputs": [],
   "source": [
    "employee[\"position\"] = \"Senior A.I Lead\""
   ]
  },
  {
   "cell_type": "code",
   "execution_count": 15,
   "metadata": {},
   "outputs": [
    {
     "data": {
      "text/plain": [
       "{'employee_Name': 'Muhammad Waqas',\n",
       " 'age': 27,\n",
       " 'gender': 'Male',\n",
       " 'Salary': 350000,\n",
       " 'position': 'Senior A.I Lead'}"
      ]
     },
     "execution_count": 15,
     "metadata": {},
     "output_type": "execute_result"
    }
   ],
   "source": [
    "employee"
   ]
  },
  {
   "cell_type": "code",
   "execution_count": 17,
   "metadata": {},
   "outputs": [],
   "source": [
    "employee[\"Department\"] = [\"Finance\", \"Data Sciences\"]"
   ]
  },
  {
   "cell_type": "code",
   "execution_count": 18,
   "metadata": {},
   "outputs": [
    {
     "data": {
      "text/plain": [
       "{'employee_Name': 'Muhammad Waqas',\n",
       " 'age': 27,\n",
       " 'gender': 'Male',\n",
       " 'Salary': 350000,\n",
       " 'position': 'Senior A.I Lead',\n",
       " 'Department': ['Finance', 'Data Sciences']}"
      ]
     },
     "execution_count": 18,
     "metadata": {},
     "output_type": "execute_result"
    }
   ],
   "source": [
    "employee"
   ]
  },
  {
   "cell_type": "code",
   "execution_count": 19,
   "metadata": {},
   "outputs": [],
   "source": [
    "employee[\"sub_ordinate\"] = {\"employee1\":\"Shazad\",\"employee2\":\"Noman\"}"
   ]
  },
  {
   "cell_type": "code",
   "execution_count": 20,
   "metadata": {},
   "outputs": [
    {
     "data": {
      "text/plain": [
       "{'employee_Name': 'Muhammad Waqas',\n",
       " 'age': 27,\n",
       " 'gender': 'Male',\n",
       " 'Salary': 350000,\n",
       " 'position': 'Senior A.I Lead',\n",
       " 'Department': ['Finance', 'Data Sciences'],\n",
       " 'sub_ordinate': {'employee1': 'Shazad', 'employee2': 'Noman'}}"
      ]
     },
     "execution_count": 20,
     "metadata": {},
     "output_type": "execute_result"
    }
   ],
   "source": [
    "employee"
   ]
  },
  {
   "cell_type": "code",
   "execution_count": 23,
   "metadata": {},
   "outputs": [],
   "source": [
    "employee[('Finance', 'Data Sciences')] = 24"
   ]
  },
  {
   "cell_type": "code",
   "execution_count": 25,
   "metadata": {},
   "outputs": [],
   "source": [
    "del employee[('Finance', 'Data Sciences')]"
   ]
  },
  {
   "cell_type": "code",
   "execution_count": 26,
   "metadata": {},
   "outputs": [
    {
     "data": {
      "text/plain": [
       "{'employee_Name': 'Muhammad Waqas',\n",
       " 'age': 27,\n",
       " 'gender': 'Male',\n",
       " 'Salary': 350000,\n",
       " 'position': 'Senior A.I Lead',\n",
       " 'Department': ['Finance', 'Data Sciences'],\n",
       " 'sub_ordinate': {'employee1': 'Shazad', 'employee2': 'Noman'}}"
      ]
     },
     "execution_count": 26,
     "metadata": {},
     "output_type": "execute_result"
    }
   ],
   "source": [
    "employee"
   ]
  },
  {
   "cell_type": "code",
   "execution_count": 27,
   "metadata": {},
   "outputs": [
    {
     "data": {
      "text/plain": [
       "['Waqas', 27, 'Male', 350000]"
      ]
     },
     "execution_count": 27,
     "metadata": {},
     "output_type": "execute_result"
    }
   ],
   "source": [
    "employee1"
   ]
  },
  {
   "cell_type": "code",
   "execution_count": 28,
   "metadata": {},
   "outputs": [
    {
     "name": "stdout",
     "output_type": "stream",
     "text": [
      "Waqas\n",
      "27\n",
      "Male\n",
      "350000\n"
     ]
    }
   ],
   "source": [
    "for content in employee1:\n",
    "    print(content)"
   ]
  },
  {
   "cell_type": "code",
   "execution_count": 32,
   "metadata": {},
   "outputs": [
    {
     "name": "stdout",
     "output_type": "stream",
     "text": [
      "employee_Name Muhammad Waqas\n",
      "age 27\n",
      "gender Male\n",
      "Salary 350000\n",
      "position Senior A.I Lead\n",
      "Department ['Finance', 'Data Sciences']\n",
      "sub_ordinate {'employee1': 'Shazad', 'employee2': 'Noman'}\n"
     ]
    }
   ],
   "source": [
    "for key in employee:\n",
    "    print(key, employee[key])"
   ]
  },
  {
   "cell_type": "code",
   "execution_count": 33,
   "metadata": {},
   "outputs": [
    {
     "name": "stdout",
     "output_type": "stream",
     "text": [
      "employee_Name\n",
      "age\n",
      "gender\n",
      "Salary\n",
      "position\n",
      "Department\n",
      "sub_ordinate\n"
     ]
    }
   ],
   "source": [
    "for key in employee.keys():\n",
    "    print(key)"
   ]
  },
  {
   "cell_type": "code",
   "execution_count": 34,
   "metadata": {},
   "outputs": [
    {
     "name": "stdout",
     "output_type": "stream",
     "text": [
      "Muhammad Waqas\n",
      "27\n",
      "Male\n",
      "350000\n",
      "Senior A.I Lead\n",
      "['Finance', 'Data Sciences']\n",
      "{'employee1': 'Shazad', 'employee2': 'Noman'}\n"
     ]
    }
   ],
   "source": [
    "for value in employee.values():\n",
    "    print(value)"
   ]
  },
  {
   "cell_type": "code",
   "execution_count": 38,
   "metadata": {},
   "outputs": [
    {
     "name": "stdout",
     "output_type": "stream",
     "text": [
      "employee_Name Muhammad Waqas\n",
      "age 27\n",
      "gender Male\n",
      "Salary 350000\n",
      "position Senior A.I Lead\n",
      "Department ['Finance', 'Data Sciences']\n",
      "sub_ordinate {'employee1': 'Shazad', 'employee2': 'Noman'}\n"
     ]
    }
   ],
   "source": [
    "for k,v in employee.items():\n",
    "    print(k,v)"
   ]
  },
  {
   "cell_type": "code",
   "execution_count": 42,
   "metadata": {},
   "outputs": [],
   "source": [
    "employees = [{'employee_Name': 'Muhammad Waqas',\n",
    " 'age': 27,\n",
    " 'gender': 'Male',\n",
    " 'Salary': 350000,\n",
    " 'position': 'Senior A.I Lead',\n",
    " 'Department': ['Finance', 'Data Sciences'],\n",
    " 'sub_ordinate': {'employee1': 'Shazad', 'employee2': 'Noman'}},\n",
    "            ]"
   ]
  },
  {
   "cell_type": "code",
   "execution_count": 41,
   "metadata": {},
   "outputs": [],
   "source": [
    "a = {'employee_Name': 'Faizan',\n",
    " 'age': 22,\n",
    " 'gender': 'Male',\n",
    " 'Salary': 350000,\n",
    " 'position': 'Senior A.I Lead',\n",
    " 'Department': ['A.I', 'Data Sciences'],\n",
    " 'sub_ordinate': {'employee1': 'Waqas', 'employee2': 'Khurram'}}"
   ]
  },
  {
   "cell_type": "code",
   "execution_count": 43,
   "metadata": {},
   "outputs": [
    {
     "data": {
      "text/plain": [
       "[{'employee_Name': 'Muhammad Waqas',\n",
       "  'age': 27,\n",
       "  'gender': 'Male',\n",
       "  'Salary': 350000,\n",
       "  'position': 'Senior A.I Lead',\n",
       "  'Department': ['Finance', 'Data Sciences'],\n",
       "  'sub_ordinate': {'employee1': 'Shazad', 'employee2': 'Noman'}}]"
      ]
     },
     "execution_count": 43,
     "metadata": {},
     "output_type": "execute_result"
    }
   ],
   "source": [
    "employees"
   ]
  },
  {
   "cell_type": "code",
   "execution_count": 44,
   "metadata": {},
   "outputs": [],
   "source": [
    "employees.append(a)"
   ]
  },
  {
   "cell_type": "code",
   "execution_count": 45,
   "metadata": {},
   "outputs": [
    {
     "data": {
      "text/plain": [
       "[{'employee_Name': 'Muhammad Waqas',\n",
       "  'age': 27,\n",
       "  'gender': 'Male',\n",
       "  'Salary': 350000,\n",
       "  'position': 'Senior A.I Lead',\n",
       "  'Department': ['Finance', 'Data Sciences'],\n",
       "  'sub_ordinate': {'employee1': 'Shazad', 'employee2': 'Noman'}},\n",
       " {'employee_Name': 'Faizan',\n",
       "  'age': 22,\n",
       "  'gender': 'Male',\n",
       "  'Salary': 350000,\n",
       "  'position': 'Senior A.I Lead',\n",
       "  'Department': ['A.I', 'Data Sciences'],\n",
       "  'sub_ordinate': {'employee1': 'Waqas', 'employee2': 'Khurram'}}]"
      ]
     },
     "execution_count": 45,
     "metadata": {},
     "output_type": "execute_result"
    }
   ],
   "source": [
    "employees"
   ]
  },
  {
   "cell_type": "code",
   "execution_count": 47,
   "metadata": {},
   "outputs": [
    {
     "data": {
      "text/plain": [
       "27"
      ]
     },
     "execution_count": 47,
     "metadata": {},
     "output_type": "execute_result"
    }
   ],
   "source": [
    "employees[0][\"age\"]"
   ]
  },
  {
   "cell_type": "code",
   "execution_count": 48,
   "metadata": {},
   "outputs": [
    {
     "data": {
      "text/plain": [
       "'Data Sciences'"
      ]
     },
     "execution_count": 48,
     "metadata": {},
     "output_type": "execute_result"
    }
   ],
   "source": [
    "employees[1]['Department'][1]"
   ]
  },
  {
   "cell_type": "code",
   "execution_count": 49,
   "metadata": {},
   "outputs": [
    {
     "data": {
      "text/plain": [
       "{'employee_Name': 'Muhammad Waqas',\n",
       " 'age': 27,\n",
       " 'gender': 'Male',\n",
       " 'Salary': 350000,\n",
       " 'position': 'Senior A.I Lead',\n",
       " 'Department': ['Finance', 'Data Sciences'],\n",
       " 'sub_ordinate': {'employee1': 'Shazad', 'employee2': 'Noman'}}"
      ]
     },
     "execution_count": 49,
     "metadata": {},
     "output_type": "execute_result"
    }
   ],
   "source": [
    "employee"
   ]
  },
  {
   "cell_type": "code",
   "execution_count": 50,
   "metadata": {},
   "outputs": [
    {
     "data": {
      "text/plain": [
       "[{'employee_Name': 'Muhammad Waqas',\n",
       "  'age': 27,\n",
       "  'gender': 'Male',\n",
       "  'Salary': 350000,\n",
       "  'position': 'Senior A.I Lead',\n",
       "  'Department': ['Finance', 'Data Sciences'],\n",
       "  'sub_ordinate': {'employee1': 'Shazad', 'employee2': 'Noman'}},\n",
       " {'employee_Name': 'Faizan',\n",
       "  'age': 22,\n",
       "  'gender': 'Male',\n",
       "  'Salary': 350000,\n",
       "  'position': 'Senior A.I Lead',\n",
       "  'Department': ['A.I', 'Data Sciences'],\n",
       "  'sub_ordinate': {'employee1': 'Waqas', 'employee2': 'Khurram'}}]"
      ]
     },
     "execution_count": 50,
     "metadata": {},
     "output_type": "execute_result"
    }
   ],
   "source": [
    "employees"
   ]
  },
  {
   "cell_type": "code",
   "execution_count": 52,
   "metadata": {},
   "outputs": [
    {
     "data": {
      "text/plain": [
       "'Noman'"
      ]
     },
     "execution_count": 52,
     "metadata": {},
     "output_type": "execute_result"
    }
   ],
   "source": [
    "employees[0]['sub_ordinate']['employee2']"
   ]
  },
  {
   "cell_type": "code",
   "execution_count": 53,
   "metadata": {},
   "outputs": [
    {
     "data": {
      "text/plain": [
       "['__class__',\n",
       " '__contains__',\n",
       " '__delattr__',\n",
       " '__delitem__',\n",
       " '__dir__',\n",
       " '__doc__',\n",
       " '__eq__',\n",
       " '__format__',\n",
       " '__ge__',\n",
       " '__getattribute__',\n",
       " '__getitem__',\n",
       " '__gt__',\n",
       " '__hash__',\n",
       " '__init__',\n",
       " '__init_subclass__',\n",
       " '__iter__',\n",
       " '__le__',\n",
       " '__len__',\n",
       " '__lt__',\n",
       " '__ne__',\n",
       " '__new__',\n",
       " '__reduce__',\n",
       " '__reduce_ex__',\n",
       " '__repr__',\n",
       " '__setattr__',\n",
       " '__setitem__',\n",
       " '__sizeof__',\n",
       " '__str__',\n",
       " '__subclasshook__',\n",
       " 'clear',\n",
       " 'copy',\n",
       " 'fromkeys',\n",
       " 'get',\n",
       " 'items',\n",
       " 'keys',\n",
       " 'pop',\n",
       " 'popitem',\n",
       " 'setdefault',\n",
       " 'update',\n",
       " 'values']"
      ]
     },
     "execution_count": 53,
     "metadata": {},
     "output_type": "execute_result"
    }
   ],
   "source": [
    "dir(dict)"
   ]
  },
  {
   "cell_type": "code",
   "execution_count": 54,
   "metadata": {},
   "outputs": [
    {
     "data": {
      "text/plain": [
       "{'employee_Name': 'Muhammad Waqas',\n",
       " 'age': 27,\n",
       " 'gender': 'Male',\n",
       " 'Salary': 350000,\n",
       " 'position': 'Senior A.I Lead',\n",
       " 'Department': ['Finance', 'Data Sciences'],\n",
       " 'sub_ordinate': {'employee1': 'Shazad', 'employee2': 'Noman'}}"
      ]
     },
     "execution_count": 54,
     "metadata": {},
     "output_type": "execute_result"
    }
   ],
   "source": [
    "employee"
   ]
  },
  {
   "cell_type": "code",
   "execution_count": 55,
   "metadata": {},
   "outputs": [
    {
     "data": {
      "text/plain": [
       "{'one': None, 'two': None}"
      ]
     },
     "execution_count": 55,
     "metadata": {},
     "output_type": "execute_result"
    }
   ],
   "source": [
    "studentData = {}\n",
    "\n",
    "studentData.fromkeys([\"one\", \"two\"])"
   ]
  },
  {
   "cell_type": "code",
   "execution_count": 56,
   "metadata": {},
   "outputs": [
    {
     "data": {
      "text/plain": [
       "dict_keys(['employee_Name', 'age', 'gender', 'Salary', 'position', 'Department', 'sub_ordinate'])"
      ]
     },
     "execution_count": 56,
     "metadata": {},
     "output_type": "execute_result"
    }
   ],
   "source": [
    "employee.keys()"
   ]
  },
  {
   "cell_type": "code",
   "execution_count": 60,
   "metadata": {},
   "outputs": [],
   "source": [
    "employee.get(\"ag\")"
   ]
  },
  {
   "cell_type": "code",
   "execution_count": 61,
   "metadata": {},
   "outputs": [
    {
     "name": "stdout",
     "output_type": "stream",
     "text": [
      "None\n"
     ]
    }
   ],
   "source": [
    "print(employee.get(\"ag\"))"
   ]
  },
  {
   "cell_type": "code",
   "execution_count": 62,
   "metadata": {},
   "outputs": [
    {
     "data": {
      "text/plain": [
       "{'employee_Name': 'Muhammad Waqas',\n",
       " 'gender': 'Male',\n",
       " 'Salary': 350000,\n",
       " 'position': 'Senior A.I Lead',\n",
       " 'Department': ['Finance', 'Data Sciences'],\n",
       " 'sub_ordinate': {'employee1': 'Shazad', 'employee2': 'Noman'}}"
      ]
     },
     "execution_count": 62,
     "metadata": {},
     "output_type": "execute_result"
    }
   ],
   "source": [
    "employee.pop(\"age\")\n",
    "employee"
   ]
  },
  {
   "cell_type": "code",
   "execution_count": 63,
   "metadata": {},
   "outputs": [
    {
     "data": {
      "text/plain": [
       "350000"
      ]
     },
     "execution_count": 63,
     "metadata": {},
     "output_type": "execute_result"
    }
   ],
   "source": [
    "employee.pop(\"Salary\")"
   ]
  },
  {
   "cell_type": "code",
   "execution_count": 65,
   "metadata": {},
   "outputs": [
    {
     "data": {
      "text/plain": [
       "('sub_ordinate', {'employee1': 'Shazad', 'employee2': 'Noman'})"
      ]
     },
     "execution_count": 65,
     "metadata": {},
     "output_type": "execute_result"
    }
   ],
   "source": [
    "employee.popitem()"
   ]
  },
  {
   "cell_type": "code",
   "execution_count": 66,
   "metadata": {},
   "outputs": [
    {
     "data": {
      "text/plain": [
       "{'employee_Name': 'Muhammad Waqas',\n",
       " 'gender': 'Male',\n",
       " 'position': 'Senior A.I Lead',\n",
       " 'Department': ['Finance', 'Data Sciences']}"
      ]
     },
     "execution_count": 66,
     "metadata": {},
     "output_type": "execute_result"
    }
   ],
   "source": [
    "employee"
   ]
  },
  {
   "cell_type": "code",
   "execution_count": 67,
   "metadata": {},
   "outputs": [],
   "source": [
    "newData = {\"name\" : \"Ali\", \"age\" : 28}"
   ]
  },
  {
   "cell_type": "code",
   "execution_count": 68,
   "metadata": {},
   "outputs": [],
   "source": [
    "employee.update(newData)"
   ]
  },
  {
   "cell_type": "code",
   "execution_count": 69,
   "metadata": {},
   "outputs": [
    {
     "data": {
      "text/plain": [
       "{'employee_Name': 'Muhammad Waqas',\n",
       " 'gender': 'Male',\n",
       " 'position': 'Senior A.I Lead',\n",
       " 'Department': ['Finance', 'Data Sciences'],\n",
       " 'name': 'Ali',\n",
       " 'age': 28}"
      ]
     },
     "execution_count": 69,
     "metadata": {},
     "output_type": "execute_result"
    }
   ],
   "source": [
    "employee"
   ]
  },
  {
   "cell_type": "code",
   "execution_count": 71,
   "metadata": {},
   "outputs": [
    {
     "name": "stdout",
     "output_type": "stream",
     "text": [
      "Enter hobbies. Seperate by comma:fishing, reading, gaming\n"
     ]
    }
   ],
   "source": [
    "hobbies = input(\"Enter hobbies. Seperate by comma:\")"
   ]
  },
  {
   "cell_type": "code",
   "execution_count": 72,
   "metadata": {},
   "outputs": [
    {
     "data": {
      "text/plain": [
       "str"
      ]
     },
     "execution_count": 72,
     "metadata": {},
     "output_type": "execute_result"
    }
   ],
   "source": [
    "type(hobbies)"
   ]
  },
  {
   "cell_type": "code",
   "execution_count": 77,
   "metadata": {},
   "outputs": [
    {
     "name": "stdout",
     "output_type": "stream",
     "text": [
      "Enter your age:28\n"
     ]
    }
   ],
   "source": [
    "employees[0][\"age\"] = int(input(\"Enter your age:\"))"
   ]
  },
  {
   "cell_type": "code",
   "execution_count": 78,
   "metadata": {},
   "outputs": [
    {
     "data": {
      "text/plain": [
       "[{'employee_Name': 'Muhammad Waqas',\n",
       "  'age': 28,\n",
       "  'gender': 'Male',\n",
       "  'Salary': 350000,\n",
       "  'position': 'Senior A.I Lead',\n",
       "  'Department': ['Finance', 'Data Sciences'],\n",
       "  'sub_ordinate': {'employee1': 'Shazad', 'employee2': 'Noman'}},\n",
       " {'employee_Name': 'Faizan',\n",
       "  'age': 22,\n",
       "  'gender': 'Male',\n",
       "  'Salary': 350000,\n",
       "  'position': 'Senior A.I Lead',\n",
       "  'Department': ['A.I', 'Data Sciences'],\n",
       "  'sub_ordinate': {'employee1': 'Waqas', 'employee2': 'Khurram'}}]"
      ]
     },
     "execution_count": 78,
     "metadata": {},
     "output_type": "execute_result"
    }
   ],
   "source": [
    "employees"
   ]
  },
  {
   "cell_type": "code",
   "execution_count": 79,
   "metadata": {},
   "outputs": [
    {
     "name": "stdout",
     "output_type": "stream",
     "text": [
      "Enter value for table: 6\n",
      "6 * 1 = 6\n",
      "6 * 2 = 12\n",
      "6 * 3 = 18\n",
      "6 * 4 = 24\n",
      "6 * 5 = 30\n",
      "6 * 6 = 36\n",
      "6 * 7 = 42\n",
      "6 * 8 = 48\n",
      "6 * 9 = 54\n",
      "6 * 10 = 60\n"
     ]
    }
   ],
   "source": [
    "tableValue = int(input(\"Enter value for table: \"))\n",
    "\n",
    "for i in range(1, 11):\n",
    "    print(f\"{tableValue} * {i} = {i * tableValue}\")"
   ]
  },
  {
   "cell_type": "markdown",
   "metadata": {},
   "source": [
    "6 * 1 = 6      7 * 1 = 7           \n",
    "6 * 2 = 12\n",
    "6 * 3 = 18\n",
    "6 * 4 = 24\n",
    "6 * 5 = 30\n",
    "6 * 6 = 36\n",
    "6 * 7 = 42\n",
    "6 * 8 = 48\n",
    "6 * 9 = 54\n",
    "6 * 10 = 60\n",
    "​"
   ]
  },
  {
   "cell_type": "code",
   "execution_count": 80,
   "metadata": {},
   "outputs": [],
   "source": [
    "data = \"My name is {}. I am in {}\".format(\"Faizan\", \"Saylani\")"
   ]
  },
  {
   "cell_type": "code",
   "execution_count": 81,
   "metadata": {},
   "outputs": [
    {
     "data": {
      "text/plain": [
       "'My name is Faizan. I am in Saylani'"
      ]
     },
     "execution_count": 81,
     "metadata": {},
     "output_type": "execute_result"
    }
   ],
   "source": [
    "data"
   ]
  },
  {
   "cell_type": "code",
   "execution_count": 82,
   "metadata": {},
   "outputs": [],
   "source": [
    "name = \"Faizan\"\n",
    "location = \"Saylani\"\n",
    "data = f\"My name is {name}. I am in {location}\""
   ]
  },
  {
   "cell_type": "code",
   "execution_count": 83,
   "metadata": {},
   "outputs": [
    {
     "data": {
      "text/plain": [
       "'My name is Faizan. I am in Saylani'"
      ]
     },
     "execution_count": 83,
     "metadata": {},
     "output_type": "execute_result"
    }
   ],
   "source": [
    "data"
   ]
  },
  {
   "cell_type": "code",
   "execution_count": null,
   "metadata": {},
   "outputs": [],
   "source": []
  }
 ],
 "metadata": {
  "kernelspec": {
   "display_name": "Python 3",
   "language": "python",
   "name": "python3"
  },
  "language_info": {
   "codemirror_mode": {
    "name": "ipython",
    "version": 3
   },
   "file_extension": ".py",
   "mimetype": "text/x-python",
   "name": "python",
   "nbconvert_exporter": "python",
   "pygments_lexer": "ipython3",
   "version": "3.7.5"
  }
 },
 "nbformat": 4,
 "nbformat_minor": 2
}
