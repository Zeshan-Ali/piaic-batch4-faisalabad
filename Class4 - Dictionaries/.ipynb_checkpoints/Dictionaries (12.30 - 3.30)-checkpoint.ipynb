{
 "cells": [
  {
   "cell_type": "code",
   "execution_count": 8,
   "metadata": {},
   "outputs": [
    {
     "data": {
      "text/plain": [
       "4"
      ]
     },
     "execution_count": 8,
     "metadata": {},
     "output_type": "execute_result"
    }
   ],
   "source": [
    "employee1 =['Waqas', 27, 'Male', 350000]\n",
    "len(employee1)"
   ]
  },
  {
   "cell_type": "markdown",
   "metadata": {},
   "source": [
    "Dictionary is a key value pair"
   ]
  },
  {
   "cell_type": "code",
   "execution_count": 4,
   "metadata": {},
   "outputs": [],
   "source": [
    "employee = {\"employee_Name\": \"Waqas\",\"age\": 27,\n",
    "            \"gender\":\"Male\", \"Salary\":350000}"
   ]
  },
  {
   "cell_type": "code",
   "execution_count": 6,
   "metadata": {},
   "outputs": [
    {
     "name": "stdout",
     "output_type": "stream",
     "text": [
      "<class 'dict'>\n"
     ]
    }
   ],
   "source": [
    "print(type(employee))"
   ]
  },
  {
   "cell_type": "code",
   "execution_count": 10,
   "metadata": {},
   "outputs": [
    {
     "data": {
      "text/plain": [
       "'Waqas'"
      ]
     },
     "execution_count": 10,
     "metadata": {},
     "output_type": "execute_result"
    }
   ],
   "source": [
    "employee1[0]"
   ]
  },
  {
   "cell_type": "code",
   "execution_count": 11,
   "metadata": {},
   "outputs": [
    {
     "data": {
      "text/plain": [
       "{'employee_Name': 'Waqas', 'age': 27, 'gender': 'Male', 'Salary': 350000}"
      ]
     },
     "execution_count": 11,
     "metadata": {},
     "output_type": "execute_result"
    }
   ],
   "source": [
    "employee"
   ]
  },
  {
   "cell_type": "code",
   "execution_count": 12,
   "metadata": {},
   "outputs": [
    {
     "data": {
      "text/plain": [
       "27"
      ]
     },
     "execution_count": 12,
     "metadata": {},
     "output_type": "execute_result"
    }
   ],
   "source": [
    "employee['age']"
   ]
  },
  {
   "cell_type": "code",
   "execution_count": 14,
   "metadata": {},
   "outputs": [],
   "source": [
    "employee1[0] = \"Muhammad Waqas\""
   ]
  },
  {
   "cell_type": "code",
   "execution_count": 15,
   "metadata": {},
   "outputs": [
    {
     "data": {
      "text/plain": [
       "['Muhammad Waqas', 27, 'Male', 350000]"
      ]
     },
     "execution_count": 15,
     "metadata": {},
     "output_type": "execute_result"
    }
   ],
   "source": [
    "employee1"
   ]
  },
  {
   "cell_type": "code",
   "execution_count": 16,
   "metadata": {},
   "outputs": [],
   "source": [
    "employee['employee_Name'] = \"Muhammad Waqas\""
   ]
  },
  {
   "cell_type": "code",
   "execution_count": 17,
   "metadata": {},
   "outputs": [
    {
     "data": {
      "text/plain": [
       "{'employee_Name': 'Muhammad Waqas',\n",
       " 'age': 27,\n",
       " 'gender': 'Male',\n",
       " 'Salary': 350000,\n",
       " 0: 'Muhammad Waqas'}"
      ]
     },
     "execution_count": 17,
     "metadata": {},
     "output_type": "execute_result"
    }
   ],
   "source": [
    "employee"
   ]
  },
  {
   "cell_type": "code",
   "execution_count": 18,
   "metadata": {},
   "outputs": [],
   "source": [
    "del employee[0]"
   ]
  },
  {
   "cell_type": "code",
   "execution_count": 19,
   "metadata": {},
   "outputs": [
    {
     "data": {
      "text/plain": [
       "{'employee_Name': 'Muhammad Waqas',\n",
       " 'age': 27,\n",
       " 'gender': 'Male',\n",
       " 'Salary': 350000}"
      ]
     },
     "execution_count": 19,
     "metadata": {},
     "output_type": "execute_result"
    }
   ],
   "source": [
    "employee"
   ]
  },
  {
   "cell_type": "code",
   "execution_count": 20,
   "metadata": {},
   "outputs": [
    {
     "ename": "KeyError",
     "evalue": "0",
     "output_type": "error",
     "traceback": [
      "\u001b[1;31m---------------------------------------------------------------------------\u001b[0m",
      "\u001b[1;31mKeyError\u001b[0m                                  Traceback (most recent call last)",
      "\u001b[1;32m<ipython-input-20-395a6276b60a>\u001b[0m in \u001b[0;36m<module>\u001b[1;34m\u001b[0m\n\u001b[1;32m----> 1\u001b[1;33m \u001b[1;32mdel\u001b[0m \u001b[0memployee\u001b[0m\u001b[1;33m[\u001b[0m\u001b[1;36m0\u001b[0m\u001b[1;33m]\u001b[0m\u001b[1;33m\u001b[0m\u001b[1;33m\u001b[0m\u001b[0m\n\u001b[0m",
      "\u001b[1;31mKeyError\u001b[0m: 0"
     ]
    }
   ],
   "source": [
    "del employee[0]"
   ]
  },
  {
   "cell_type": "code",
   "execution_count": 30,
   "metadata": {},
   "outputs": [],
   "source": [
    "employee[\"Department\"] = [\"Finance\", \"D.S\"]"
   ]
  },
  {
   "cell_type": "code",
   "execution_count": 31,
   "metadata": {},
   "outputs": [
    {
     "data": {
      "text/plain": [
       "{'employee_Name': 'Muhammad Waqas',\n",
       " 'age': 27,\n",
       " 'gender': 'Male',\n",
       " 'Salary': 350000,\n",
       " 'Department': ['Finance', 'D.S']}"
      ]
     },
     "execution_count": 31,
     "metadata": {},
     "output_type": "execute_result"
    }
   ],
   "source": [
    "employee"
   ]
  },
  {
   "cell_type": "code",
   "execution_count": 32,
   "metadata": {},
   "outputs": [
    {
     "data": {
      "text/plain": [
       "['Finance', 'D.S']"
      ]
     },
     "execution_count": 32,
     "metadata": {},
     "output_type": "execute_result"
    }
   ],
   "source": [
    "employee['Department']"
   ]
  },
  {
   "cell_type": "code",
   "execution_count": 33,
   "metadata": {},
   "outputs": [],
   "source": [
    "employee[\"subordinate\"] = {\"Fin\":\"Shazad\", \"D.S\": \"Noman\"}"
   ]
  },
  {
   "cell_type": "code",
   "execution_count": 34,
   "metadata": {},
   "outputs": [
    {
     "data": {
      "text/plain": [
       "{'employee_Name': 'Muhammad Waqas',\n",
       " 'age': 27,\n",
       " 'gender': 'Male',\n",
       " 'Salary': 350000,\n",
       " 'Department': ['Finance', 'D.S'],\n",
       " 'subordinate': {'Fin': 'Shazad', 'D.S': 'Noman'}}"
      ]
     },
     "execution_count": 34,
     "metadata": {},
     "output_type": "execute_result"
    }
   ],
   "source": [
    "employee"
   ]
  },
  {
   "cell_type": "code",
   "execution_count": 35,
   "metadata": {},
   "outputs": [
    {
     "ename": "TypeError",
     "evalue": "unhashable type: 'list'",
     "output_type": "error",
     "traceback": [
      "\u001b[1;31m---------------------------------------------------------------------------\u001b[0m",
      "\u001b[1;31mTypeError\u001b[0m                                 Traceback (most recent call last)",
      "\u001b[1;32m<ipython-input-35-24dc6ab3e175>\u001b[0m in \u001b[0;36m<module>\u001b[1;34m\u001b[0m\n\u001b[1;32m----> 1\u001b[1;33m \u001b[0memployee\u001b[0m\u001b[1;33m[\u001b[0m\u001b[1;33m[\u001b[0m\u001b[1;34m'Finance'\u001b[0m\u001b[1;33m,\u001b[0m \u001b[1;34m'D.S'\u001b[0m\u001b[1;33m]\u001b[0m\u001b[1;33m]\u001b[0m \u001b[1;33m=\u001b[0m \u001b[1;36m2\u001b[0m\u001b[1;33m\u001b[0m\u001b[1;33m\u001b[0m\u001b[0m\n\u001b[0m",
      "\u001b[1;31mTypeError\u001b[0m: unhashable type: 'list'"
     ]
    }
   ],
   "source": [
    "employee[['Finance', 'D.S']] = 2"
   ]
  },
  {
   "cell_type": "code",
   "execution_count": 36,
   "metadata": {},
   "outputs": [
    {
     "ename": "TypeError",
     "evalue": "unhashable type: 'dict'",
     "output_type": "error",
     "traceback": [
      "\u001b[1;31m---------------------------------------------------------------------------\u001b[0m",
      "\u001b[1;31mTypeError\u001b[0m                                 Traceback (most recent call last)",
      "\u001b[1;32m<ipython-input-36-fb05389ab9dc>\u001b[0m in \u001b[0;36m<module>\u001b[1;34m\u001b[0m\n\u001b[1;32m----> 1\u001b[1;33m \u001b[0memployee\u001b[0m\u001b[1;33m[\u001b[0m\u001b[1;33m{\u001b[0m\u001b[1;34m'Fin'\u001b[0m\u001b[1;33m:\u001b[0m \u001b[1;34m'Shazad'\u001b[0m\u001b[1;33m,\u001b[0m \u001b[1;34m'D.S'\u001b[0m\u001b[1;33m:\u001b[0m \u001b[1;34m'Noman'\u001b[0m\u001b[1;33m}\u001b[0m\u001b[1;33m]\u001b[0m \u001b[1;33m=\u001b[0m \u001b[1;34m\"2 Employess\"\u001b[0m\u001b[1;33m\u001b[0m\u001b[1;33m\u001b[0m\u001b[0m\n\u001b[0m",
      "\u001b[1;31mTypeError\u001b[0m: unhashable type: 'dict'"
     ]
    }
   ],
   "source": [
    "employee[{'Fin': 'Shazad', 'D.S': 'Noman'}] = \"2 Employess\""
   ]
  },
  {
   "cell_type": "code",
   "execution_count": 37,
   "metadata": {},
   "outputs": [],
   "source": [
    "employee[(1,2)] = 7"
   ]
  },
  {
   "cell_type": "code",
   "execution_count": 38,
   "metadata": {},
   "outputs": [
    {
     "data": {
      "text/plain": [
       "{'employee_Name': 'Muhammad Waqas',\n",
       " 'age': 27,\n",
       " 'gender': 'Male',\n",
       " 'Salary': 350000,\n",
       " 'Department': ['Finance', 'D.S'],\n",
       " 'subordinate': {'Fin': 'Shazad', 'D.S': 'Noman'},\n",
       " (1, 2): 7}"
      ]
     },
     "execution_count": 38,
     "metadata": {},
     "output_type": "execute_result"
    }
   ],
   "source": [
    "employee"
   ]
  },
  {
   "cell_type": "code",
   "execution_count": 40,
   "metadata": {},
   "outputs": [],
   "source": [
    "del employee[(1, 2)]"
   ]
  },
  {
   "cell_type": "code",
   "execution_count": 41,
   "metadata": {},
   "outputs": [
    {
     "data": {
      "text/plain": [
       "{'employee_Name': 'Muhammad Waqas',\n",
       " 'age': 27,\n",
       " 'gender': 'Male',\n",
       " 'Salary': 350000,\n",
       " 'Department': ['Finance', 'D.S'],\n",
       " 'subordinate': {'Fin': 'Shazad', 'D.S': 'Noman'}}"
      ]
     },
     "execution_count": 41,
     "metadata": {},
     "output_type": "execute_result"
    }
   ],
   "source": [
    "employee"
   ]
  },
  {
   "cell_type": "code",
   "execution_count": 43,
   "metadata": {},
   "outputs": [],
   "source": [
    "employee_2 = {'employee_Name': 'Rizwan',\n",
    " 'age': 23,\n",
    " 'gender': 'Male',\n",
    " 'Salary': 350000,\n",
    " 'Department': ['A.I', 'D.S'],\n",
    " 'subordinate': {'Fin': 'Ali', 'D.S': 'Fahad'}}"
   ]
  },
  {
   "cell_type": "code",
   "execution_count": 44,
   "metadata": {},
   "outputs": [
    {
     "data": {
      "text/plain": [
       "[{'employee_Name': 'Muhammad Waqas',\n",
       "  'age': 27,\n",
       "  'gender': 'Male',\n",
       "  'Salary': 350000,\n",
       "  'Department': ['Finance', 'D.S'],\n",
       "  'subordinate': {'Fin': 'Shazad', 'D.S': 'Noman'}}]"
      ]
     },
     "execution_count": 44,
     "metadata": {},
     "output_type": "execute_result"
    }
   ],
   "source": [
    "employees = [employee]\n",
    "employees"
   ]
  },
  {
   "cell_type": "code",
   "execution_count": 45,
   "metadata": {},
   "outputs": [],
   "source": [
    "employees.append(employee_2)"
   ]
  },
  {
   "cell_type": "code",
   "execution_count": 46,
   "metadata": {},
   "outputs": [
    {
     "data": {
      "text/plain": [
       "[{'employee_Name': 'Muhammad Waqas',\n",
       "  'age': 27,\n",
       "  'gender': 'Male',\n",
       "  'Salary': 350000,\n",
       "  'Department': ['Finance', 'D.S'],\n",
       "  'subordinate': {'Fin': 'Shazad', 'D.S': 'Noman'}},\n",
       " {'employee_Name': 'Rizwan',\n",
       "  'age': 23,\n",
       "  'gender': 'Male',\n",
       "  'Salary': 350000,\n",
       "  'Department': ['A.I', 'D.S'],\n",
       "  'subordinate': {'Fin': 'Ali', 'D.S': 'Fahad'}}]"
      ]
     },
     "execution_count": 46,
     "metadata": {},
     "output_type": "execute_result"
    }
   ],
   "source": [
    "employees"
   ]
  },
  {
   "cell_type": "code",
   "execution_count": 48,
   "metadata": {},
   "outputs": [
    {
     "data": {
      "text/plain": [
       "{'employee_Name': 'Rizwan',\n",
       " 'age': 23,\n",
       " 'gender': 'Male',\n",
       " 'Salary': 350000,\n",
       " 'Department': ['A.I', 'D.S'],\n",
       " 'subordinate': {'Fin': 'Ali', 'D.S': 'Fahad'}}"
      ]
     },
     "execution_count": 48,
     "metadata": {},
     "output_type": "execute_result"
    }
   ],
   "source": [
    "employees[1]"
   ]
  },
  {
   "cell_type": "code",
   "execution_count": 49,
   "metadata": {},
   "outputs": [
    {
     "data": {
      "text/plain": [
       "'D.S'"
      ]
     },
     "execution_count": 49,
     "metadata": {},
     "output_type": "execute_result"
    }
   ],
   "source": [
    "employees[0]['Department'][1]"
   ]
  },
  {
   "cell_type": "code",
   "execution_count": 50,
   "metadata": {},
   "outputs": [
    {
     "data": {
      "text/plain": [
       "{'employee_Name': 'Rizwan',\n",
       " 'age': 23,\n",
       " 'gender': 'Male',\n",
       " 'Salary': 350000,\n",
       " 'Department': ['A.I', 'D.S'],\n",
       " 'subordinate': {'Fin': 'Ali', 'D.S': 'Fahad'}}"
      ]
     },
     "execution_count": 50,
     "metadata": {},
     "output_type": "execute_result"
    }
   ],
   "source": [
    "employee_2"
   ]
  },
  {
   "cell_type": "code",
   "execution_count": 51,
   "metadata": {},
   "outputs": [
    {
     "data": {
      "text/plain": [
       "['Muhammad Waqas', 27, 'Male', 350000]"
      ]
     },
     "execution_count": 51,
     "metadata": {},
     "output_type": "execute_result"
    }
   ],
   "source": [
    "employee1"
   ]
  },
  {
   "cell_type": "code",
   "execution_count": 52,
   "metadata": {},
   "outputs": [
    {
     "name": "stdout",
     "output_type": "stream",
     "text": [
      "Muhammad Waqas\n",
      "27\n",
      "Male\n",
      "350000\n"
     ]
    }
   ],
   "source": [
    "for j in employee1:\n",
    "    print(j)"
   ]
  },
  {
   "cell_type": "code",
   "execution_count": 53,
   "metadata": {},
   "outputs": [
    {
     "data": {
      "text/plain": [
       "{'employee_Name': 'Rizwan',\n",
       " 'age': 23,\n",
       " 'gender': 'Male',\n",
       " 'Salary': 350000,\n",
       " 'Department': ['A.I', 'D.S'],\n",
       " 'subordinate': {'Fin': 'Ali', 'D.S': 'Fahad'}}"
      ]
     },
     "execution_count": 53,
     "metadata": {},
     "output_type": "execute_result"
    }
   ],
   "source": [
    "employee_2"
   ]
  },
  {
   "cell_type": "code",
   "execution_count": 57,
   "metadata": {},
   "outputs": [
    {
     "name": "stdout",
     "output_type": "stream",
     "text": [
      "employee_Name Rizwan\n",
      "age 23\n",
      "gender Male\n",
      "Salary 350000\n",
      "Department ['A.I', 'D.S']\n",
      "subordinate {'Fin': 'Ali', 'D.S': 'Fahad'}\n"
     ]
    }
   ],
   "source": [
    "for key in employee_2:\n",
    "    print(key,employee_2[key])"
   ]
  },
  {
   "cell_type": "code",
   "execution_count": 56,
   "metadata": {},
   "outputs": [
    {
     "name": "stdout",
     "output_type": "stream",
     "text": [
      "Waqas Ali\n"
     ]
    }
   ],
   "source": [
    "print(\"Waqas\", \"Ali\")"
   ]
  },
  {
   "cell_type": "code",
   "execution_count": 58,
   "metadata": {},
   "outputs": [
    {
     "name": "stdout",
     "output_type": "stream",
     "text": [
      "employee_Name\n",
      "age\n",
      "gender\n",
      "Salary\n",
      "Department\n",
      "subordinate\n"
     ]
    }
   ],
   "source": [
    "for key in employee_2.keys():\n",
    "    print(key)"
   ]
  },
  {
   "cell_type": "code",
   "execution_count": 60,
   "metadata": {},
   "outputs": [
    {
     "name": "stdout",
     "output_type": "stream",
     "text": [
      "Rizwan\n",
      "23\n",
      "Male\n",
      "350000\n",
      "['A.I', 'D.S']\n",
      "{'Fin': 'Ali', 'D.S': 'Fahad'}\n"
     ]
    }
   ],
   "source": [
    "for value in employee_2.values():\n",
    "    print(value)"
   ]
  },
  {
   "cell_type": "code",
   "execution_count": 62,
   "metadata": {},
   "outputs": [
    {
     "name": "stdout",
     "output_type": "stream",
     "text": [
      "employee_Name Rizwan\n",
      "age 23\n",
      "gender Male\n",
      "Salary 350000\n",
      "Department ['A.I', 'D.S']\n",
      "subordinate {'Fin': 'Ali', 'D.S': 'Fahad'}\n"
     ]
    }
   ],
   "source": [
    "for i,j in employee_2.items():\n",
    "    print(i,j)"
   ]
  },
  {
   "cell_type": "code",
   "execution_count": 69,
   "metadata": {},
   "outputs": [],
   "source": [
    "a,b,c,d = 1,2,3,4"
   ]
  },
  {
   "cell_type": "code",
   "execution_count": 70,
   "metadata": {},
   "outputs": [
    {
     "data": {
      "text/plain": [
       "1"
      ]
     },
     "execution_count": 70,
     "metadata": {},
     "output_type": "execute_result"
    }
   ],
   "source": [
    "a"
   ]
  },
  {
   "cell_type": "code",
   "execution_count": 65,
   "metadata": {},
   "outputs": [
    {
     "data": {
      "text/plain": [
       "2"
      ]
     },
     "execution_count": 65,
     "metadata": {},
     "output_type": "execute_result"
    }
   ],
   "source": [
    "b"
   ]
  },
  {
   "cell_type": "code",
   "execution_count": 71,
   "metadata": {},
   "outputs": [
    {
     "data": {
      "text/plain": [
       "[{'employee_Name': 'Muhammad Waqas',\n",
       "  'age': 27,\n",
       "  'gender': 'Male',\n",
       "  'Salary': 350000,\n",
       "  'Department': ['Finance', 'D.S'],\n",
       "  'subordinate': {'Fin': 'Shazad', 'D.S': 'Noman'}},\n",
       " {'employee_Name': 'Rizwan',\n",
       "  'age': 23,\n",
       "  'gender': 'Male',\n",
       "  'Salary': 350000,\n",
       "  'Department': ['A.I', 'D.S'],\n",
       "  'subordinate': {'Fin': 'Ali', 'D.S': 'Fahad'}}]"
      ]
     },
     "execution_count": 71,
     "metadata": {},
     "output_type": "execute_result"
    }
   ],
   "source": [
    "employees"
   ]
  },
  {
   "cell_type": "code",
   "execution_count": 73,
   "metadata": {},
   "outputs": [
    {
     "data": {
      "text/plain": [
       "'Fahad'"
      ]
     },
     "execution_count": 73,
     "metadata": {},
     "output_type": "execute_result"
    }
   ],
   "source": [
    "employees[1]['subordinate']['D.S']"
   ]
  },
  {
   "cell_type": "code",
   "execution_count": 74,
   "metadata": {},
   "outputs": [],
   "source": [
    "employees[0]['Department'].append(\"A.I\")"
   ]
  },
  {
   "cell_type": "code",
   "execution_count": 75,
   "metadata": {},
   "outputs": [
    {
     "data": {
      "text/plain": [
       "[{'employee_Name': 'Muhammad Waqas',\n",
       "  'age': 27,\n",
       "  'gender': 'Male',\n",
       "  'Salary': 350000,\n",
       "  'Department': ['Finance', 'D.S', 'A.I'],\n",
       "  'subordinate': {'Fin': 'Shazad', 'D.S': 'Noman'}},\n",
       " {'employee_Name': 'Rizwan',\n",
       "  'age': 23,\n",
       "  'gender': 'Male',\n",
       "  'Salary': 350000,\n",
       "  'Department': ['A.I', 'D.S'],\n",
       "  'subordinate': {'Fin': 'Ali', 'D.S': 'Fahad'}}]"
      ]
     },
     "execution_count": 75,
     "metadata": {},
     "output_type": "execute_result"
    }
   ],
   "source": [
    "employees"
   ]
  },
  {
   "cell_type": "code",
   "execution_count": 76,
   "metadata": {},
   "outputs": [],
   "source": [
    "employees[0]['employee_Name'] = \"Khurram\""
   ]
  },
  {
   "cell_type": "code",
   "execution_count": 77,
   "metadata": {},
   "outputs": [
    {
     "data": {
      "text/plain": [
       "[{'employee_Name': 'Khurram',\n",
       "  'age': 27,\n",
       "  'gender': 'Male',\n",
       "  'Salary': 350000,\n",
       "  'Department': ['Finance', 'D.S', 'A.I'],\n",
       "  'subordinate': {'Fin': 'Shazad', 'D.S': 'Noman'}},\n",
       " {'employee_Name': 'Rizwan',\n",
       "  'age': 23,\n",
       "  'gender': 'Male',\n",
       "  'Salary': 350000,\n",
       "  'Department': ['A.I', 'D.S'],\n",
       "  'subordinate': {'Fin': 'Ali', 'D.S': 'Fahad'}}]"
      ]
     },
     "execution_count": 77,
     "metadata": {},
     "output_type": "execute_result"
    }
   ],
   "source": [
    "employees"
   ]
  },
  {
   "cell_type": "code",
   "execution_count": 78,
   "metadata": {},
   "outputs": [
    {
     "data": {
      "text/plain": [
       "{'employee_Name': 'Khurram',\n",
       " 'age': 27,\n",
       " 'gender': 'Male',\n",
       " 'Salary': 350000,\n",
       " 'Department': ['Finance', 'D.S', 'A.I'],\n",
       " 'subordinate': {'Fin': 'Shazad', 'D.S': 'Noman'}}"
      ]
     },
     "execution_count": 78,
     "metadata": {},
     "output_type": "execute_result"
    }
   ],
   "source": [
    "employee"
   ]
  },
  {
   "cell_type": "code",
   "execution_count": 79,
   "metadata": {},
   "outputs": [
    {
     "data": {
      "text/plain": [
       "{'employee_Name': 'Rizwan',\n",
       " 'age': 23,\n",
       " 'gender': 'Male',\n",
       " 'Salary': 350000,\n",
       " 'Department': ['A.I', 'D.S'],\n",
       " 'subordinate': {'Fin': 'Ali', 'D.S': 'Fahad'}}"
      ]
     },
     "execution_count": 79,
     "metadata": {},
     "output_type": "execute_result"
    }
   ],
   "source": [
    "employee_2"
   ]
  },
  {
   "cell_type": "code",
   "execution_count": 80,
   "metadata": {},
   "outputs": [
    {
     "data": {
      "text/plain": [
       "[{'employee_Name': 'Khurram',\n",
       "  'age': 27,\n",
       "  'gender': 'Male',\n",
       "  'Salary': 350000,\n",
       "  'Department': ['Finance', 'D.S', 'A.I'],\n",
       "  'subordinate': {'Fin': 'Shazad', 'D.S': 'Noman'}},\n",
       " {'employee_Name': 'Rizwan',\n",
       "  'age': 23,\n",
       "  'gender': 'Male',\n",
       "  'Salary': 350000,\n",
       "  'Department': ['A.I', 'D.S'],\n",
       "  'subordinate': {'Fin': 'Ali', 'D.S': 'Fahad'}}]"
      ]
     },
     "execution_count": 80,
     "metadata": {},
     "output_type": "execute_result"
    }
   ],
   "source": [
    "employees"
   ]
  },
  {
   "cell_type": "code",
   "execution_count": 81,
   "metadata": {},
   "outputs": [
    {
     "data": {
      "text/plain": [
       "{'employee1': {'employee_Name': 'Khurram',\n",
       "  'age': 27,\n",
       "  'gender': 'Male',\n",
       "  'Salary': 350000,\n",
       "  'Department': ['Finance', 'D.S', 'A.I'],\n",
       "  'subordinate': {'Fin': 'Shazad', 'D.S': 'Noman'}},\n",
       " 'employee2': {'employee_Name': 'Rizwan',\n",
       "  'age': 23,\n",
       "  'gender': 'Male',\n",
       "  'Salary': 350000,\n",
       "  'Department': ['A.I', 'D.S'],\n",
       "  'subordinate': {'Fin': 'Ali', 'D.S': 'Fahad'}}}"
      ]
     },
     "execution_count": 81,
     "metadata": {},
     "output_type": "execute_result"
    }
   ],
   "source": [
    "sorry = {\"employee1\" : employee, \"employee2\":employee_2}\n",
    "sorry"
   ]
  },
  {
   "cell_type": "code",
   "execution_count": null,
   "metadata": {},
   "outputs": [],
   "source": []
  }
 ],
 "metadata": {
  "kernelspec": {
   "display_name": "Python 3",
   "language": "python",
   "name": "python3"
  },
  "language_info": {
   "codemirror_mode": {
    "name": "ipython",
    "version": 3
   },
   "file_extension": ".py",
   "mimetype": "text/x-python",
   "name": "python",
   "nbconvert_exporter": "python",
   "pygments_lexer": "ipython3",
   "version": "3.7.5"
  }
 },
 "nbformat": 4,
 "nbformat_minor": 2
}
